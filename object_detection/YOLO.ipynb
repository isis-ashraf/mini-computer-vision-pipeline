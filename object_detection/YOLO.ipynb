{
  "cells": [
    {
      "cell_type": "code",
      "execution_count": null,
      "metadata": {
        "colab": {
          "base_uri": "https://localhost:8080/"
        },
        "id": "bCPDC_TPvU6r",
        "outputId": "a0819f66-afba-4295-c256-358d72001af4"
      },
      "outputs": [
        {
          "name": "stdout",
          "output_type": "stream",
          "text": [
            "Path to dataset files: /kaggle/input/fruits\n",
            "Training classes: 207\n",
            "Test classes: 207\n",
            "24\n",
            "6\n"
          ]
        }
      ],
      "source": [
        "import os\n",
        "import random\n",
        "import kagglehub\n",
        "import glob\n",
        "\n",
        "# Download latest version\n",
        "path = kagglehub.dataset_download(\"moltean/fruits\")\n",
        "\n",
        "print(\"Path to dataset files:\", path)\n",
        "\n",
        "train_dir = os.path.join(path, 'fruits-360_100x100/fruits-360', 'Training')\n",
        "test_dir = os.path.join(path, 'fruits-360_100x100/fruits-360', 'Test')\n",
        "\n",
        "print(\"Training classes:\", len(os.listdir(train_dir)))\n",
        "print(\"Test classes:\", len(os.listdir(test_dir)))\n",
        "\n",
        "import glob\n",
        "import shutil\n",
        "\n",
        "num_images = 30\n",
        "output_dir = 'object_detection'\n",
        "os.makedirs(os.path.join(output_dir, 'images/train'), exist_ok=True)\n",
        "os.makedirs(os.path.join(output_dir, 'images/val'), exist_ok=True)\n",
        "os.makedirs(os.path.join(output_dir, 'labels/train'), exist_ok=True)\n",
        "os.makedirs(os.path.join(output_dir, 'labels/val'), exist_ok=True)\n",
        "\n",
        "# Randomly select images from a few classes (e.g., 5 classes, 5 images each)\n",
        "classes = ['Apple Braeburn 1', 'Banana 1', 'Orange 1', 'Mango 1', 'Strawberry 1', 'Avocado Black 1']\n",
        "images = []\n",
        "for cls in classes:\n",
        "    cls_images = glob.glob(os.path.join(train_dir, cls, '*.jpg'))\n",
        "    selected = random.sample(cls_images, min(5, len(cls_images)))\n",
        "    images.extend(selected)\n",
        "\n",
        "random.shuffle(images)\n",
        "train_images = images[:24] # 80% train\n",
        "val_images = images[24:] # 20% val\n",
        "\n",
        "print(len(train_images))\n",
        "print(len(val_images))\n",
        "\n",
        "\n",
        "# Copy images to object_detection/\n",
        "for img in train_images:\n",
        "    shutil.copy(img, os.path.join(output_dir, 'images/train', os.path.basename(img)))\n",
        "for img in val_images:\n",
        "    shutil.copy(img, os.path.join(output_dir, 'images/val', os.path.basename(img)))\n"
      ]
    },
    {
      "cell_type": "code",
      "execution_count": null,
      "metadata": {},
      "outputs": [],
      "source": [
        "\n",
        "# Install dependencies \n",
        "# !pip install ultralytics kagglehub\n",
        "\n",
        "# Manual annotation step \n",
        "# Used LabelImg to create YOLO-format labels (.txt files) in labels/train and labels/val\n",
        "\n",
        "# Create data.yaml ---\n",
        "data_yaml = f\"\"\"\n",
        "train: {os.path.abspath(output_dir)}/images/train\n",
        "val: {os.path.abspath(output_dir)}/images/val\n",
        "\n",
        "nc: {len(classes)}\n",
        "names: {classes}\n",
        "\"\"\"\n",
        "with open(os.path.join(output_dir, 'data.yaml'), 'w') as f:\n",
        "    f.write(data_yaml)\n",
        "\n",
        "print(open(os.path.join(output_dir, 'data.yaml')).read())\n",
        "\n",
        "# Train YOLOv8 model \n",
        "from ultralytics import YOLO\n",
        "\n",
        "model = YOLO('yolov8n.pt')  # small model for speed\n",
        "model.train(\n",
        "    data=os.path.join(output_dir, 'data.yaml'),\n",
        "    epochs=30,\n",
        "    imgsz=100,\n",
        "    project='object_detection',\n",
        "    name='fruits_yolo'\n",
        ")\n",
        "\n",
        "# Run inference on validation set \n",
        "results = model.predict(source=os.path.join(output_dir, 'images/val'), save=True)\n",
        "\n",
        "# Show results \n",
        "import matplotlib.pyplot as plt\n",
        "import glob\n",
        "from PIL import Image\n",
        "\n",
        "pred_dir = 'runs/predict'  # ultralytics output folder may vary\n",
        "pred_images = glob.glob(pred_dir + '//*.jpg', recursive=True)[:5]\n",
        "\n",
        "plt.figure(figsize=(15, 10))\n",
        "for i, img_path in enumerate(pred_images):\n",
        "    plt.subplot(1, len(pred_images), i+1)\n",
        "    plt.imshow(Image.open(img_path))\n",
        "    plt.axis('off')\n",
        "plt.show()\n",
        "\n",
        "# Save final model \n",
        "model.export(format='pt', path=os.path.join(output_dir, 'fruits_yolo.pt'))\n"
      ]
    }
  ],
  "metadata": {
    "colab": {
      "provenance": []
    },
    "kernelspec": {
      "display_name": "Python 3",
      "name": "python3"
    },
    "language_info": {
      "name": "python",
      "version": "3.12.3"
    }
  },
  "nbformat": 4,
  "nbformat_minor": 0
}
